{
  "cells": [
    {
      "cell_type": "code",
      "execution_count": 1,
      "metadata": {
        "colab": {
          "base_uri": "https://localhost:8080/"
        },
        "id": "095prANP44Ck",
        "outputId": "b663c33c-ced5-496a-e594-8dae93161ace"
      },
      "outputs": [
        {
          "output_type": "stream",
          "name": "stdout",
          "text": [
            "Mounted at /content/drive\n"
          ]
        }
      ],
      "source": [
        "from google.colab import drive\n",
        "drive.mount('/content/drive')"
      ],
      "id": "095prANP44Ck"
    },
    {
      "cell_type": "code",
      "execution_count": 2,
      "metadata": {
        "id": "CRa6bAqF4f9v"
      },
      "outputs": [],
      "source": [
        "import numpy as np\n",
        "import pandas as pd\n",
        "from matplotlib import pyplot as plt\n",
        "%matplotlib inline\n",
        "import seaborn as sns\n",
        "import re\n",
        "from nltk.corpus import stopwords\n",
        "from nltk.stem.porter import PorterStemmer\n",
        "from sklearn.feature_extraction.text import CountVectorizer\n",
        "from sklearn.feature_extraction.text import TfidfTransformer\n",
        "from sklearn.linear_model import LogisticRegression\n",
        "from sklearn.svm import SVC\n",
        "from sklearn.tree import DecisionTreeClassifier\n",
        "from sklearn.ensemble import RandomForestClassifier , GradientBoostingClassifier\n",
        "from sklearn.model_selection import train_test_split , GridSearchCV\n",
        "from sklearn.metrics import accuracy_score , ConfusionMatrixDisplay , classification_report , roc_curve"
      ],
      "id": "CRa6bAqF4f9v"
    },
    {
      "cell_type": "code",
      "execution_count": 3,
      "metadata": {
        "colab": {
          "base_uri": "https://localhost:8080/"
        },
        "id": "U4BZ5JgB4f9x",
        "outputId": "9e35e465-01ba-4400-81f2-74189d01f279"
      },
      "outputs": [
        {
          "output_type": "stream",
          "name": "stdout",
          "text": [
            "['i', 'me', 'my', 'myself', 'we', 'our', 'ours', 'ourselves', 'you', \"you're\", \"you've\", \"you'll\", \"you'd\", 'your', 'yours', 'yourself', 'yourselves', 'he', 'him', 'his', 'himself', 'she', \"she's\", 'her', 'hers', 'herself', 'it', \"it's\", 'its', 'itself', 'they', 'them', 'their', 'theirs', 'themselves', 'what', 'which', 'who', 'whom', 'this', 'that', \"that'll\", 'these', 'those', 'am', 'is', 'are', 'was', 'were', 'be', 'been', 'being', 'have', 'has', 'had', 'having', 'do', 'does', 'did', 'doing', 'a', 'an', 'the', 'and', 'but', 'if', 'or', 'because', 'as', 'until', 'while', 'of', 'at', 'by', 'for', 'with', 'about', 'against', 'between', 'into', 'through', 'during', 'before', 'after', 'above', 'below', 'to', 'from', 'up', 'down', 'in', 'out', 'on', 'off', 'over', 'under', 'again', 'further', 'then', 'once', 'here', 'there', 'when', 'where', 'why', 'how', 'all', 'any', 'both', 'each', 'few', 'more', 'most', 'other', 'some', 'such', 'no', 'nor', 'not', 'only', 'own', 'same', 'so', 'than', 'too', 'very', 's', 't', 'can', 'will', 'just', 'don', \"don't\", 'should', \"should've\", 'now', 'd', 'll', 'm', 'o', 're', 've', 'y', 'ain', 'aren', \"aren't\", 'couldn', \"couldn't\", 'didn', \"didn't\", 'doesn', \"doesn't\", 'hadn', \"hadn't\", 'hasn', \"hasn't\", 'haven', \"haven't\", 'isn', \"isn't\", 'ma', 'mightn', \"mightn't\", 'mustn', \"mustn't\", 'needn', \"needn't\", 'shan', \"shan't\", 'shouldn', \"shouldn't\", 'wasn', \"wasn't\", 'weren', \"weren't\", 'won', \"won't\", 'wouldn', \"wouldn't\"]\n"
          ]
        },
        {
          "output_type": "stream",
          "name": "stderr",
          "text": [
            "[nltk_data] Downloading package stopwords to /root/nltk_data...\n",
            "[nltk_data]   Unzipping corpora/stopwords.zip.\n"
          ]
        }
      ],
      "source": [
        "# Printing the stopwords in English\n",
        "import nltk\n",
        "nltk.download('stopwords')\n",
        "print(stopwords.words('english'))"
      ],
      "id": "U4BZ5JgB4f9x"
    },
    {
      "cell_type": "markdown",
      "metadata": {
        "id": "fSh86s2H4f9y"
      },
      "source": [
        "## Data Preparation"
      ],
      "id": "fSh86s2H4f9y"
    },
    {
      "cell_type": "code",
      "execution_count": 4,
      "metadata": {
        "colab": {
          "base_uri": "https://localhost:8080/",
          "height": 224
        },
        "id": "XyZbQ1wl4f9z",
        "outputId": "6fb7c402-52d1-40f5-bcd9-b273ac5ad610"
      },
      "outputs": [
        {
          "output_type": "stream",
          "name": "stdout",
          "text": [
            "The shape of the dataset is: (20800, 5)\n"
          ]
        },
        {
          "output_type": "execute_result",
          "data": {
            "text/plain": [
              "   id                                              title              author  \\\n",
              "0   0  House Dem Aide: We Didn’t Even See Comey’s Let...       Darrell Lucus   \n",
              "1   1  FLYNN: Hillary Clinton, Big Woman on Campus - ...     Daniel J. Flynn   \n",
              "2   2                  Why the Truth Might Get You Fired  Consortiumnews.com   \n",
              "3   3  15 Civilians Killed In Single US Airstrike Hav...     Jessica Purkiss   \n",
              "4   4  Iranian woman jailed for fictional unpublished...      Howard Portnoy   \n",
              "\n",
              "                                                text  label  \n",
              "0  House Dem Aide: We Didn’t Even See Comey’s Let...      1  \n",
              "1  Ever get the feeling your life circles the rou...      0  \n",
              "2  Why the Truth Might Get You Fired October 29, ...      1  \n",
              "3  Videos 15 Civilians Killed In Single US Airstr...      1  \n",
              "4  Print \\nAn Iranian woman has been sentenced to...      1  "
            ],
            "text/html": [
              "\n",
              "  <div id=\"df-ef658f5b-406a-4d34-884e-ade04554f5ed\" class=\"colab-df-container\">\n",
              "    <div>\n",
              "<style scoped>\n",
              "    .dataframe tbody tr th:only-of-type {\n",
              "        vertical-align: middle;\n",
              "    }\n",
              "\n",
              "    .dataframe tbody tr th {\n",
              "        vertical-align: top;\n",
              "    }\n",
              "\n",
              "    .dataframe thead th {\n",
              "        text-align: right;\n",
              "    }\n",
              "</style>\n",
              "<table border=\"1\" class=\"dataframe\">\n",
              "  <thead>\n",
              "    <tr style=\"text-align: right;\">\n",
              "      <th></th>\n",
              "      <th>id</th>\n",
              "      <th>title</th>\n",
              "      <th>author</th>\n",
              "      <th>text</th>\n",
              "      <th>label</th>\n",
              "    </tr>\n",
              "  </thead>\n",
              "  <tbody>\n",
              "    <tr>\n",
              "      <th>0</th>\n",
              "      <td>0</td>\n",
              "      <td>House Dem Aide: We Didn’t Even See Comey’s Let...</td>\n",
              "      <td>Darrell Lucus</td>\n",
              "      <td>House Dem Aide: We Didn’t Even See Comey’s Let...</td>\n",
              "      <td>1</td>\n",
              "    </tr>\n",
              "    <tr>\n",
              "      <th>1</th>\n",
              "      <td>1</td>\n",
              "      <td>FLYNN: Hillary Clinton, Big Woman on Campus - ...</td>\n",
              "      <td>Daniel J. Flynn</td>\n",
              "      <td>Ever get the feeling your life circles the rou...</td>\n",
              "      <td>0</td>\n",
              "    </tr>\n",
              "    <tr>\n",
              "      <th>2</th>\n",
              "      <td>2</td>\n",
              "      <td>Why the Truth Might Get You Fired</td>\n",
              "      <td>Consortiumnews.com</td>\n",
              "      <td>Why the Truth Might Get You Fired October 29, ...</td>\n",
              "      <td>1</td>\n",
              "    </tr>\n",
              "    <tr>\n",
              "      <th>3</th>\n",
              "      <td>3</td>\n",
              "      <td>15 Civilians Killed In Single US Airstrike Hav...</td>\n",
              "      <td>Jessica Purkiss</td>\n",
              "      <td>Videos 15 Civilians Killed In Single US Airstr...</td>\n",
              "      <td>1</td>\n",
              "    </tr>\n",
              "    <tr>\n",
              "      <th>4</th>\n",
              "      <td>4</td>\n",
              "      <td>Iranian woman jailed for fictional unpublished...</td>\n",
              "      <td>Howard Portnoy</td>\n",
              "      <td>Print \\nAn Iranian woman has been sentenced to...</td>\n",
              "      <td>1</td>\n",
              "    </tr>\n",
              "  </tbody>\n",
              "</table>\n",
              "</div>\n",
              "    <div class=\"colab-df-buttons\">\n",
              "\n",
              "  <div class=\"colab-df-container\">\n",
              "    <button class=\"colab-df-convert\" onclick=\"convertToInteractive('df-ef658f5b-406a-4d34-884e-ade04554f5ed')\"\n",
              "            title=\"Convert this dataframe to an interactive table.\"\n",
              "            style=\"display:none;\">\n",
              "\n",
              "  <svg xmlns=\"http://www.w3.org/2000/svg\" height=\"24px\" viewBox=\"0 -960 960 960\">\n",
              "    <path d=\"M120-120v-720h720v720H120Zm60-500h600v-160H180v160Zm220 220h160v-160H400v160Zm0 220h160v-160H400v160ZM180-400h160v-160H180v160Zm440 0h160v-160H620v160ZM180-180h160v-160H180v160Zm440 0h160v-160H620v160Z\"/>\n",
              "  </svg>\n",
              "    </button>\n",
              "\n",
              "  <style>\n",
              "    .colab-df-container {\n",
              "      display:flex;\n",
              "      gap: 12px;\n",
              "    }\n",
              "\n",
              "    .colab-df-convert {\n",
              "      background-color: #E8F0FE;\n",
              "      border: none;\n",
              "      border-radius: 50%;\n",
              "      cursor: pointer;\n",
              "      display: none;\n",
              "      fill: #1967D2;\n",
              "      height: 32px;\n",
              "      padding: 0 0 0 0;\n",
              "      width: 32px;\n",
              "    }\n",
              "\n",
              "    .colab-df-convert:hover {\n",
              "      background-color: #E2EBFA;\n",
              "      box-shadow: 0px 1px 2px rgba(60, 64, 67, 0.3), 0px 1px 3px 1px rgba(60, 64, 67, 0.15);\n",
              "      fill: #174EA6;\n",
              "    }\n",
              "\n",
              "    .colab-df-buttons div {\n",
              "      margin-bottom: 4px;\n",
              "    }\n",
              "\n",
              "    [theme=dark] .colab-df-convert {\n",
              "      background-color: #3B4455;\n",
              "      fill: #D2E3FC;\n",
              "    }\n",
              "\n",
              "    [theme=dark] .colab-df-convert:hover {\n",
              "      background-color: #434B5C;\n",
              "      box-shadow: 0px 1px 3px 1px rgba(0, 0, 0, 0.15);\n",
              "      filter: drop-shadow(0px 1px 2px rgba(0, 0, 0, 0.3));\n",
              "      fill: #FFFFFF;\n",
              "    }\n",
              "  </style>\n",
              "\n",
              "    <script>\n",
              "      const buttonEl =\n",
              "        document.querySelector('#df-ef658f5b-406a-4d34-884e-ade04554f5ed button.colab-df-convert');\n",
              "      buttonEl.style.display =\n",
              "        google.colab.kernel.accessAllowed ? 'block' : 'none';\n",
              "\n",
              "      async function convertToInteractive(key) {\n",
              "        const element = document.querySelector('#df-ef658f5b-406a-4d34-884e-ade04554f5ed');\n",
              "        const dataTable =\n",
              "          await google.colab.kernel.invokeFunction('convertToInteractive',\n",
              "                                                    [key], {});\n",
              "        if (!dataTable) return;\n",
              "\n",
              "        const docLinkHtml = 'Like what you see? Visit the ' +\n",
              "          '<a target=\"_blank\" href=https://colab.research.google.com/notebooks/data_table.ipynb>data table notebook</a>'\n",
              "          + ' to learn more about interactive tables.';\n",
              "        element.innerHTML = '';\n",
              "        dataTable['output_type'] = 'display_data';\n",
              "        await google.colab.output.renderOutput(dataTable, element);\n",
              "        const docLink = document.createElement('div');\n",
              "        docLink.innerHTML = docLinkHtml;\n",
              "        element.appendChild(docLink);\n",
              "      }\n",
              "    </script>\n",
              "  </div>\n",
              "\n",
              "\n",
              "<div id=\"df-60c1e758-f263-4452-8e71-e13997483e26\">\n",
              "  <button class=\"colab-df-quickchart\" onclick=\"quickchart('df-60c1e758-f263-4452-8e71-e13997483e26')\"\n",
              "            title=\"Suggest charts\"\n",
              "            style=\"display:none;\">\n",
              "\n",
              "<svg xmlns=\"http://www.w3.org/2000/svg\" height=\"24px\"viewBox=\"0 0 24 24\"\n",
              "     width=\"24px\">\n",
              "    <g>\n",
              "        <path d=\"M19 3H5c-1.1 0-2 .9-2 2v14c0 1.1.9 2 2 2h14c1.1 0 2-.9 2-2V5c0-1.1-.9-2-2-2zM9 17H7v-7h2v7zm4 0h-2V7h2v10zm4 0h-2v-4h2v4z\"/>\n",
              "    </g>\n",
              "</svg>\n",
              "  </button>\n",
              "\n",
              "<style>\n",
              "  .colab-df-quickchart {\n",
              "      --bg-color: #E8F0FE;\n",
              "      --fill-color: #1967D2;\n",
              "      --hover-bg-color: #E2EBFA;\n",
              "      --hover-fill-color: #174EA6;\n",
              "      --disabled-fill-color: #AAA;\n",
              "      --disabled-bg-color: #DDD;\n",
              "  }\n",
              "\n",
              "  [theme=dark] .colab-df-quickchart {\n",
              "      --bg-color: #3B4455;\n",
              "      --fill-color: #D2E3FC;\n",
              "      --hover-bg-color: #434B5C;\n",
              "      --hover-fill-color: #FFFFFF;\n",
              "      --disabled-bg-color: #3B4455;\n",
              "      --disabled-fill-color: #666;\n",
              "  }\n",
              "\n",
              "  .colab-df-quickchart {\n",
              "    background-color: var(--bg-color);\n",
              "    border: none;\n",
              "    border-radius: 50%;\n",
              "    cursor: pointer;\n",
              "    display: none;\n",
              "    fill: var(--fill-color);\n",
              "    height: 32px;\n",
              "    padding: 0;\n",
              "    width: 32px;\n",
              "  }\n",
              "\n",
              "  .colab-df-quickchart:hover {\n",
              "    background-color: var(--hover-bg-color);\n",
              "    box-shadow: 0 1px 2px rgba(60, 64, 67, 0.3), 0 1px 3px 1px rgba(60, 64, 67, 0.15);\n",
              "    fill: var(--button-hover-fill-color);\n",
              "  }\n",
              "\n",
              "  .colab-df-quickchart-complete:disabled,\n",
              "  .colab-df-quickchart-complete:disabled:hover {\n",
              "    background-color: var(--disabled-bg-color);\n",
              "    fill: var(--disabled-fill-color);\n",
              "    box-shadow: none;\n",
              "  }\n",
              "\n",
              "  .colab-df-spinner {\n",
              "    border: 2px solid var(--fill-color);\n",
              "    border-color: transparent;\n",
              "    border-bottom-color: var(--fill-color);\n",
              "    animation:\n",
              "      spin 1s steps(1) infinite;\n",
              "  }\n",
              "\n",
              "  @keyframes spin {\n",
              "    0% {\n",
              "      border-color: transparent;\n",
              "      border-bottom-color: var(--fill-color);\n",
              "      border-left-color: var(--fill-color);\n",
              "    }\n",
              "    20% {\n",
              "      border-color: transparent;\n",
              "      border-left-color: var(--fill-color);\n",
              "      border-top-color: var(--fill-color);\n",
              "    }\n",
              "    30% {\n",
              "      border-color: transparent;\n",
              "      border-left-color: var(--fill-color);\n",
              "      border-top-color: var(--fill-color);\n",
              "      border-right-color: var(--fill-color);\n",
              "    }\n",
              "    40% {\n",
              "      border-color: transparent;\n",
              "      border-right-color: var(--fill-color);\n",
              "      border-top-color: var(--fill-color);\n",
              "    }\n",
              "    60% {\n",
              "      border-color: transparent;\n",
              "      border-right-color: var(--fill-color);\n",
              "    }\n",
              "    80% {\n",
              "      border-color: transparent;\n",
              "      border-right-color: var(--fill-color);\n",
              "      border-bottom-color: var(--fill-color);\n",
              "    }\n",
              "    90% {\n",
              "      border-color: transparent;\n",
              "      border-bottom-color: var(--fill-color);\n",
              "    }\n",
              "  }\n",
              "</style>\n",
              "\n",
              "  <script>\n",
              "    async function quickchart(key) {\n",
              "      const quickchartButtonEl =\n",
              "        document.querySelector('#' + key + ' button');\n",
              "      quickchartButtonEl.disabled = true;  // To prevent multiple clicks.\n",
              "      quickchartButtonEl.classList.add('colab-df-spinner');\n",
              "      try {\n",
              "        const charts = await google.colab.kernel.invokeFunction(\n",
              "            'suggestCharts', [key], {});\n",
              "      } catch (error) {\n",
              "        console.error('Error during call to suggestCharts:', error);\n",
              "      }\n",
              "      quickchartButtonEl.classList.remove('colab-df-spinner');\n",
              "      quickchartButtonEl.classList.add('colab-df-quickchart-complete');\n",
              "    }\n",
              "    (() => {\n",
              "      let quickchartButtonEl =\n",
              "        document.querySelector('#df-60c1e758-f263-4452-8e71-e13997483e26 button');\n",
              "      quickchartButtonEl.style.display =\n",
              "        google.colab.kernel.accessAllowed ? 'block' : 'none';\n",
              "    })();\n",
              "  </script>\n",
              "</div>\n",
              "\n",
              "    </div>\n",
              "  </div>\n"
            ]
          },
          "metadata": {},
          "execution_count": 4
        }
      ],
      "source": [
        "# load the data\n",
        "df = pd.read_csv('/content/drive/MyDrive/Untitled folder/train.csv')\n",
        "print(f\"The shape of the dataset is: {df.shape}\")\n",
        "df.head()"
      ],
      "id": "XyZbQ1wl4f9z"
    },
    {
      "cell_type": "code",
      "execution_count": 5,
      "metadata": {
        "colab": {
          "base_uri": "https://localhost:8080/"
        },
        "id": "fiRnk8jG4f9z",
        "outputId": "e200ac0d-faea-4942-a094-f1ebbe543f9e",
        "scrolled": true
      },
      "outputs": [
        {
          "output_type": "stream",
          "name": "stdout",
          "text": [
            "<class 'pandas.core.frame.DataFrame'>\n",
            "RangeIndex: 20800 entries, 0 to 20799\n",
            "Data columns (total 5 columns):\n",
            " #   Column  Non-Null Count  Dtype \n",
            "---  ------  --------------  ----- \n",
            " 0   id      20800 non-null  int64 \n",
            " 1   title   20242 non-null  object\n",
            " 2   author  18843 non-null  object\n",
            " 3   text    20761 non-null  object\n",
            " 4   label   20800 non-null  int64 \n",
            "dtypes: int64(2), object(3)\n",
            "memory usage: 812.6+ KB\n"
          ]
        }
      ],
      "source": [
        "df.info()"
      ],
      "id": "fiRnk8jG4f9z"
    },
    {
      "cell_type": "code",
      "execution_count": 6,
      "metadata": {
        "colab": {
          "base_uri": "https://localhost:8080/"
        },
        "id": "-omuBjmI4f90",
        "outputId": "9ee639b4-6242-4377-ab72-a72c1bfe6368"
      },
      "outputs": [
        {
          "output_type": "execute_result",
          "data": {
            "text/plain": [
              "id           0\n",
              "title      558\n",
              "author    1957\n",
              "text        39\n",
              "label        0\n",
              "dtype: int64"
            ]
          },
          "metadata": {},
          "execution_count": 6
        }
      ],
      "source": [
        "df.isna().sum()"
      ],
      "id": "-omuBjmI4f90"
    },
    {
      "cell_type": "markdown",
      "metadata": {
        "id": "oirZKtt24f91"
      },
      "source": [
        "## Data Preprocessing"
      ],
      "id": "oirZKtt24f91"
    },
    {
      "cell_type": "markdown",
      "metadata": {
        "id": "OU1b-UzB4f91"
      },
      "source": [
        "### Handling null values"
      ],
      "id": "OU1b-UzB4f91"
    },
    {
      "cell_type": "code",
      "execution_count": 7,
      "metadata": {
        "id": "_N0LarPn4f91"
      },
      "outputs": [],
      "source": [
        "df.fillna(\" \", inplace= True)"
      ],
      "id": "_N0LarPn4f91"
    },
    {
      "cell_type": "code",
      "execution_count": 8,
      "metadata": {
        "id": "brBU1UkJ4f92"
      },
      "outputs": [],
      "source": [
        "df['content'] = df['title'] + \" \" + df['author']"
      ],
      "id": "brBU1UkJ4f92"
    },
    {
      "cell_type": "code",
      "execution_count": 9,
      "metadata": {
        "colab": {
          "base_uri": "https://localhost:8080/",
          "height": 275
        },
        "id": "0uOuc87b4f92",
        "outputId": "1c25801e-5e3c-456b-cb25-7beef5e6ce32"
      },
      "outputs": [
        {
          "output_type": "execute_result",
          "data": {
            "text/plain": [
              "   id                                              title              author  \\\n",
              "0   0  House Dem Aide: We Didn’t Even See Comey’s Let...       Darrell Lucus   \n",
              "1   1  FLYNN: Hillary Clinton, Big Woman on Campus - ...     Daniel J. Flynn   \n",
              "2   2                  Why the Truth Might Get You Fired  Consortiumnews.com   \n",
              "3   3  15 Civilians Killed In Single US Airstrike Hav...     Jessica Purkiss   \n",
              "4   4  Iranian woman jailed for fictional unpublished...      Howard Portnoy   \n",
              "\n",
              "                                                text  label  \\\n",
              "0  House Dem Aide: We Didn’t Even See Comey’s Let...      1   \n",
              "1  Ever get the feeling your life circles the rou...      0   \n",
              "2  Why the Truth Might Get You Fired October 29, ...      1   \n",
              "3  Videos 15 Civilians Killed In Single US Airstr...      1   \n",
              "4  Print \\nAn Iranian woman has been sentenced to...      1   \n",
              "\n",
              "                                             content  \n",
              "0  House Dem Aide: We Didn’t Even See Comey’s Let...  \n",
              "1  FLYNN: Hillary Clinton, Big Woman on Campus - ...  \n",
              "2  Why the Truth Might Get You Fired Consortiumne...  \n",
              "3  15 Civilians Killed In Single US Airstrike Hav...  \n",
              "4  Iranian woman jailed for fictional unpublished...  "
            ],
            "text/html": [
              "\n",
              "  <div id=\"df-2c0b9f44-45de-438b-b0fb-aa6ce000a2e5\" class=\"colab-df-container\">\n",
              "    <div>\n",
              "<style scoped>\n",
              "    .dataframe tbody tr th:only-of-type {\n",
              "        vertical-align: middle;\n",
              "    }\n",
              "\n",
              "    .dataframe tbody tr th {\n",
              "        vertical-align: top;\n",
              "    }\n",
              "\n",
              "    .dataframe thead th {\n",
              "        text-align: right;\n",
              "    }\n",
              "</style>\n",
              "<table border=\"1\" class=\"dataframe\">\n",
              "  <thead>\n",
              "    <tr style=\"text-align: right;\">\n",
              "      <th></th>\n",
              "      <th>id</th>\n",
              "      <th>title</th>\n",
              "      <th>author</th>\n",
              "      <th>text</th>\n",
              "      <th>label</th>\n",
              "      <th>content</th>\n",
              "    </tr>\n",
              "  </thead>\n",
              "  <tbody>\n",
              "    <tr>\n",
              "      <th>0</th>\n",
              "      <td>0</td>\n",
              "      <td>House Dem Aide: We Didn’t Even See Comey’s Let...</td>\n",
              "      <td>Darrell Lucus</td>\n",
              "      <td>House Dem Aide: We Didn’t Even See Comey’s Let...</td>\n",
              "      <td>1</td>\n",
              "      <td>House Dem Aide: We Didn’t Even See Comey’s Let...</td>\n",
              "    </tr>\n",
              "    <tr>\n",
              "      <th>1</th>\n",
              "      <td>1</td>\n",
              "      <td>FLYNN: Hillary Clinton, Big Woman on Campus - ...</td>\n",
              "      <td>Daniel J. Flynn</td>\n",
              "      <td>Ever get the feeling your life circles the rou...</td>\n",
              "      <td>0</td>\n",
              "      <td>FLYNN: Hillary Clinton, Big Woman on Campus - ...</td>\n",
              "    </tr>\n",
              "    <tr>\n",
              "      <th>2</th>\n",
              "      <td>2</td>\n",
              "      <td>Why the Truth Might Get You Fired</td>\n",
              "      <td>Consortiumnews.com</td>\n",
              "      <td>Why the Truth Might Get You Fired October 29, ...</td>\n",
              "      <td>1</td>\n",
              "      <td>Why the Truth Might Get You Fired Consortiumne...</td>\n",
              "    </tr>\n",
              "    <tr>\n",
              "      <th>3</th>\n",
              "      <td>3</td>\n",
              "      <td>15 Civilians Killed In Single US Airstrike Hav...</td>\n",
              "      <td>Jessica Purkiss</td>\n",
              "      <td>Videos 15 Civilians Killed In Single US Airstr...</td>\n",
              "      <td>1</td>\n",
              "      <td>15 Civilians Killed In Single US Airstrike Hav...</td>\n",
              "    </tr>\n",
              "    <tr>\n",
              "      <th>4</th>\n",
              "      <td>4</td>\n",
              "      <td>Iranian woman jailed for fictional unpublished...</td>\n",
              "      <td>Howard Portnoy</td>\n",
              "      <td>Print \\nAn Iranian woman has been sentenced to...</td>\n",
              "      <td>1</td>\n",
              "      <td>Iranian woman jailed for fictional unpublished...</td>\n",
              "    </tr>\n",
              "  </tbody>\n",
              "</table>\n",
              "</div>\n",
              "    <div class=\"colab-df-buttons\">\n",
              "\n",
              "  <div class=\"colab-df-container\">\n",
              "    <button class=\"colab-df-convert\" onclick=\"convertToInteractive('df-2c0b9f44-45de-438b-b0fb-aa6ce000a2e5')\"\n",
              "            title=\"Convert this dataframe to an interactive table.\"\n",
              "            style=\"display:none;\">\n",
              "\n",
              "  <svg xmlns=\"http://www.w3.org/2000/svg\" height=\"24px\" viewBox=\"0 -960 960 960\">\n",
              "    <path d=\"M120-120v-720h720v720H120Zm60-500h600v-160H180v160Zm220 220h160v-160H400v160Zm0 220h160v-160H400v160ZM180-400h160v-160H180v160Zm440 0h160v-160H620v160ZM180-180h160v-160H180v160Zm440 0h160v-160H620v160Z\"/>\n",
              "  </svg>\n",
              "    </button>\n",
              "\n",
              "  <style>\n",
              "    .colab-df-container {\n",
              "      display:flex;\n",
              "      gap: 12px;\n",
              "    }\n",
              "\n",
              "    .colab-df-convert {\n",
              "      background-color: #E8F0FE;\n",
              "      border: none;\n",
              "      border-radius: 50%;\n",
              "      cursor: pointer;\n",
              "      display: none;\n",
              "      fill: #1967D2;\n",
              "      height: 32px;\n",
              "      padding: 0 0 0 0;\n",
              "      width: 32px;\n",
              "    }\n",
              "\n",
              "    .colab-df-convert:hover {\n",
              "      background-color: #E2EBFA;\n",
              "      box-shadow: 0px 1px 2px rgba(60, 64, 67, 0.3), 0px 1px 3px 1px rgba(60, 64, 67, 0.15);\n",
              "      fill: #174EA6;\n",
              "    }\n",
              "\n",
              "    .colab-df-buttons div {\n",
              "      margin-bottom: 4px;\n",
              "    }\n",
              "\n",
              "    [theme=dark] .colab-df-convert {\n",
              "      background-color: #3B4455;\n",
              "      fill: #D2E3FC;\n",
              "    }\n",
              "\n",
              "    [theme=dark] .colab-df-convert:hover {\n",
              "      background-color: #434B5C;\n",
              "      box-shadow: 0px 1px 3px 1px rgba(0, 0, 0, 0.15);\n",
              "      filter: drop-shadow(0px 1px 2px rgba(0, 0, 0, 0.3));\n",
              "      fill: #FFFFFF;\n",
              "    }\n",
              "  </style>\n",
              "\n",
              "    <script>\n",
              "      const buttonEl =\n",
              "        document.querySelector('#df-2c0b9f44-45de-438b-b0fb-aa6ce000a2e5 button.colab-df-convert');\n",
              "      buttonEl.style.display =\n",
              "        google.colab.kernel.accessAllowed ? 'block' : 'none';\n",
              "\n",
              "      async function convertToInteractive(key) {\n",
              "        const element = document.querySelector('#df-2c0b9f44-45de-438b-b0fb-aa6ce000a2e5');\n",
              "        const dataTable =\n",
              "          await google.colab.kernel.invokeFunction('convertToInteractive',\n",
              "                                                    [key], {});\n",
              "        if (!dataTable) return;\n",
              "\n",
              "        const docLinkHtml = 'Like what you see? Visit the ' +\n",
              "          '<a target=\"_blank\" href=https://colab.research.google.com/notebooks/data_table.ipynb>data table notebook</a>'\n",
              "          + ' to learn more about interactive tables.';\n",
              "        element.innerHTML = '';\n",
              "        dataTable['output_type'] = 'display_data';\n",
              "        await google.colab.output.renderOutput(dataTable, element);\n",
              "        const docLink = document.createElement('div');\n",
              "        docLink.innerHTML = docLinkHtml;\n",
              "        element.appendChild(docLink);\n",
              "      }\n",
              "    </script>\n",
              "  </div>\n",
              "\n",
              "\n",
              "<div id=\"df-f8ef1b49-e4ec-42df-b6f8-72c604004403\">\n",
              "  <button class=\"colab-df-quickchart\" onclick=\"quickchart('df-f8ef1b49-e4ec-42df-b6f8-72c604004403')\"\n",
              "            title=\"Suggest charts\"\n",
              "            style=\"display:none;\">\n",
              "\n",
              "<svg xmlns=\"http://www.w3.org/2000/svg\" height=\"24px\"viewBox=\"0 0 24 24\"\n",
              "     width=\"24px\">\n",
              "    <g>\n",
              "        <path d=\"M19 3H5c-1.1 0-2 .9-2 2v14c0 1.1.9 2 2 2h14c1.1 0 2-.9 2-2V5c0-1.1-.9-2-2-2zM9 17H7v-7h2v7zm4 0h-2V7h2v10zm4 0h-2v-4h2v4z\"/>\n",
              "    </g>\n",
              "</svg>\n",
              "  </button>\n",
              "\n",
              "<style>\n",
              "  .colab-df-quickchart {\n",
              "      --bg-color: #E8F0FE;\n",
              "      --fill-color: #1967D2;\n",
              "      --hover-bg-color: #E2EBFA;\n",
              "      --hover-fill-color: #174EA6;\n",
              "      --disabled-fill-color: #AAA;\n",
              "      --disabled-bg-color: #DDD;\n",
              "  }\n",
              "\n",
              "  [theme=dark] .colab-df-quickchart {\n",
              "      --bg-color: #3B4455;\n",
              "      --fill-color: #D2E3FC;\n",
              "      --hover-bg-color: #434B5C;\n",
              "      --hover-fill-color: #FFFFFF;\n",
              "      --disabled-bg-color: #3B4455;\n",
              "      --disabled-fill-color: #666;\n",
              "  }\n",
              "\n",
              "  .colab-df-quickchart {\n",
              "    background-color: var(--bg-color);\n",
              "    border: none;\n",
              "    border-radius: 50%;\n",
              "    cursor: pointer;\n",
              "    display: none;\n",
              "    fill: var(--fill-color);\n",
              "    height: 32px;\n",
              "    padding: 0;\n",
              "    width: 32px;\n",
              "  }\n",
              "\n",
              "  .colab-df-quickchart:hover {\n",
              "    background-color: var(--hover-bg-color);\n",
              "    box-shadow: 0 1px 2px rgba(60, 64, 67, 0.3), 0 1px 3px 1px rgba(60, 64, 67, 0.15);\n",
              "    fill: var(--button-hover-fill-color);\n",
              "  }\n",
              "\n",
              "  .colab-df-quickchart-complete:disabled,\n",
              "  .colab-df-quickchart-complete:disabled:hover {\n",
              "    background-color: var(--disabled-bg-color);\n",
              "    fill: var(--disabled-fill-color);\n",
              "    box-shadow: none;\n",
              "  }\n",
              "\n",
              "  .colab-df-spinner {\n",
              "    border: 2px solid var(--fill-color);\n",
              "    border-color: transparent;\n",
              "    border-bottom-color: var(--fill-color);\n",
              "    animation:\n",
              "      spin 1s steps(1) infinite;\n",
              "  }\n",
              "\n",
              "  @keyframes spin {\n",
              "    0% {\n",
              "      border-color: transparent;\n",
              "      border-bottom-color: var(--fill-color);\n",
              "      border-left-color: var(--fill-color);\n",
              "    }\n",
              "    20% {\n",
              "      border-color: transparent;\n",
              "      border-left-color: var(--fill-color);\n",
              "      border-top-color: var(--fill-color);\n",
              "    }\n",
              "    30% {\n",
              "      border-color: transparent;\n",
              "      border-left-color: var(--fill-color);\n",
              "      border-top-color: var(--fill-color);\n",
              "      border-right-color: var(--fill-color);\n",
              "    }\n",
              "    40% {\n",
              "      border-color: transparent;\n",
              "      border-right-color: var(--fill-color);\n",
              "      border-top-color: var(--fill-color);\n",
              "    }\n",
              "    60% {\n",
              "      border-color: transparent;\n",
              "      border-right-color: var(--fill-color);\n",
              "    }\n",
              "    80% {\n",
              "      border-color: transparent;\n",
              "      border-right-color: var(--fill-color);\n",
              "      border-bottom-color: var(--fill-color);\n",
              "    }\n",
              "    90% {\n",
              "      border-color: transparent;\n",
              "      border-bottom-color: var(--fill-color);\n",
              "    }\n",
              "  }\n",
              "</style>\n",
              "\n",
              "  <script>\n",
              "    async function quickchart(key) {\n",
              "      const quickchartButtonEl =\n",
              "        document.querySelector('#' + key + ' button');\n",
              "      quickchartButtonEl.disabled = true;  // To prevent multiple clicks.\n",
              "      quickchartButtonEl.classList.add('colab-df-spinner');\n",
              "      try {\n",
              "        const charts = await google.colab.kernel.invokeFunction(\n",
              "            'suggestCharts', [key], {});\n",
              "      } catch (error) {\n",
              "        console.error('Error during call to suggestCharts:', error);\n",
              "      }\n",
              "      quickchartButtonEl.classList.remove('colab-df-spinner');\n",
              "      quickchartButtonEl.classList.add('colab-df-quickchart-complete');\n",
              "    }\n",
              "    (() => {\n",
              "      let quickchartButtonEl =\n",
              "        document.querySelector('#df-f8ef1b49-e4ec-42df-b6f8-72c604004403 button');\n",
              "      quickchartButtonEl.style.display =\n",
              "        google.colab.kernel.accessAllowed ? 'block' : 'none';\n",
              "    })();\n",
              "  </script>\n",
              "</div>\n",
              "\n",
              "    </div>\n",
              "  </div>\n"
            ]
          },
          "metadata": {},
          "execution_count": 9
        }
      ],
      "source": [
        "df.head()"
      ],
      "id": "0uOuc87b4f92"
    },
    {
      "cell_type": "markdown",
      "metadata": {
        "id": "Hvl9n5Ei4f92"
      },
      "source": [
        "## Stemming"
      ],
      "id": "Hvl9n5Ei4f92"
    },
    {
      "cell_type": "markdown",
      "metadata": {
        "id": "WPnJmkK04f92"
      },
      "source": [
        "### Stemming is the process of reducing a word to its base or root form, by removing suffixes and prefixes"
      ],
      "id": "WPnJmkK04f92"
    },
    {
      "cell_type": "code",
      "execution_count": 10,
      "metadata": {
        "id": "w3jAjsgq4f93"
      },
      "outputs": [],
      "source": [
        "port_stem = PorterStemmer()"
      ],
      "id": "w3jAjsgq4f93"
    },
    {
      "cell_type": "code",
      "execution_count": 11,
      "metadata": {
        "id": "kfI-WTTL4f93"
      },
      "outputs": [],
      "source": [
        "def stemming(content):\n",
        "    #replace any non-alphabetic characters in the content variable with a space character\n",
        "    stemmed_content= re.sub('[^a-zA-Z]',' ',content)\n",
        "    #Convert all words into lower case letters\n",
        "    stemmed_content = stemmed_content.lower()\n",
        "    # Split the words into list\n",
        "    stemmed_content = stemmed_content.split()\n",
        "    #generate a list of stemmed words from stemmed_content, excluding any stop words from the list\n",
        "    stemmed_content = [port_stem.stem(word) for word in stemmed_content if not word in stopwords.words('english')]\n",
        "    #Join the elements from the list 'stemmed_content' into a single string separated by spaces\n",
        "    stemmed_content = \" \".join(stemmed_content)\n",
        "    return stemmed_content"
      ],
      "id": "kfI-WTTL4f93"
    },
    {
      "cell_type": "code",
      "execution_count": 12,
      "metadata": {
        "id": "R4OKpQUz4f94"
      },
      "outputs": [],
      "source": [
        "df['content']= df['content'].apply(stemming)"
      ],
      "id": "R4OKpQUz4f94"
    },
    {
      "cell_type": "code",
      "execution_count": 13,
      "metadata": {
        "colab": {
          "base_uri": "https://localhost:8080/"
        },
        "id": "0tFBkzvK4f94",
        "outputId": "6c577946-b04e-44b8-efc4-8af9f120586f"
      },
      "outputs": [
        {
          "output_type": "execute_result",
          "data": {
            "text/plain": [
              "0        hous dem aid even see comey letter jason chaff...\n",
              "1        flynn hillari clinton big woman campu breitbar...\n",
              "2                   truth might get fire consortiumnew com\n",
              "3        civilian kill singl us airstrik identifi jessi...\n",
              "4        iranian woman jail fiction unpublish stori wom...\n",
              "                               ...                        \n",
              "20795    rapper trump poster child white supremaci jero...\n",
              "20796    n f l playoff schedul matchup odd new york tim...\n",
              "20797    maci said receiv takeov approach hudson bay ne...\n",
              "20798    nato russia hold parallel exercis balkan alex ...\n",
              "20799                            keep f aliv david swanson\n",
              "Name: content, Length: 20800, dtype: object"
            ]
          },
          "metadata": {},
          "execution_count": 13
        }
      ],
      "source": [
        "df['content']"
      ],
      "id": "0tFBkzvK4f94"
    },
    {
      "cell_type": "markdown",
      "metadata": {
        "id": "LuHh6PFA4f94"
      },
      "source": [
        "## Converting the textual data to numerical data"
      ],
      "id": "LuHh6PFA4f94"
    },
    {
      "cell_type": "code",
      "execution_count": 14,
      "metadata": {
        "id": "oRFM3j6K4f95"
      },
      "outputs": [],
      "source": [
        "transformer = TfidfTransformer(smooth_idf=False)\n",
        "count_vectorizer = CountVectorizer(ngram_range=(1, 2))\n",
        "counts = count_vectorizer.fit_transform(df['content'].values)\n",
        "tfidf = transformer.fit_transform(counts)"
      ],
      "id": "oRFM3j6K4f95"
    },
    {
      "cell_type": "markdown",
      "metadata": {
        "id": "zp1Zgk394f95"
      },
      "source": [
        "## Split data into train & test data"
      ],
      "id": "zp1Zgk394f95"
    },
    {
      "cell_type": "code",
      "execution_count": 15,
      "metadata": {
        "id": "MsSv6F8R4f95"
      },
      "outputs": [],
      "source": [
        "targets = df['label'].values"
      ],
      "id": "MsSv6F8R4f95"
    },
    {
      "cell_type": "code",
      "execution_count": 16,
      "metadata": {
        "colab": {
          "base_uri": "https://localhost:8080/"
        },
        "id": "nbTix8Bf4f96",
        "outputId": "5802d974-0079-4fc8-89ce-4c4ea29fedcc"
      },
      "outputs": [
        {
          "output_type": "stream",
          "name": "stdout",
          "text": [
            "target shape: (20800,)\n",
            "X shape: (20800, 131551)\n"
          ]
        }
      ],
      "source": [
        "print(f\"target shape: {targets.shape}\")\n",
        "print(f\"X shape: {tfidf.shape}\")"
      ],
      "id": "nbTix8Bf4f96"
    },
    {
      "cell_type": "code",
      "execution_count": 17,
      "metadata": {
        "id": "qp4X3jf04f96"
      },
      "outputs": [],
      "source": [
        "X_train, X_test, y_train, y_test = train_test_split(tfidf, targets, test_size=0.2, random_state=49)"
      ],
      "id": "qp4X3jf04f96"
    },
    {
      "cell_type": "code",
      "execution_count": 18,
      "metadata": {
        "colab": {
          "base_uri": "https://localhost:8080/"
        },
        "id": "YLQhBwDk4f96",
        "outputId": "da226b42-be90-4571-e567-6fa9441df767"
      },
      "outputs": [
        {
          "output_type": "stream",
          "name": "stdout",
          "text": [
            "The shape of X_train is: 16640\n",
            "The shape of X_test is: 4160\n"
          ]
        }
      ],
      "source": [
        "print(f\"The shape of X_train is: {X_train.shape[0]}\")\n",
        "print(f\"The shape of X_test is: {X_test.shape[0]}\")"
      ],
      "id": "YLQhBwDk4f96"
    },
    {
      "cell_type": "markdown",
      "metadata": {
        "id": "91L1y8Jq4f97"
      },
      "source": [
        "## Iterate"
      ],
      "id": "91L1y8Jq4f97"
    },
    {
      "cell_type": "code",
      "execution_count": 20,
      "metadata": {
        "id": "AZv_auph4f97"
      },
      "outputs": [],
      "source": [
        "def train(model , model_name):\n",
        "    model.fit(X_train,y_train)\n",
        "    print(f\"Training accuracy of {model_name} is {model.score(X_train,y_train)}\")\n",
        "    print(f\"testing accuracy of {model_name} is {model.score(X_test,y_test)}\")\n",
        "def conf_matrix(model):\n",
        "    ConfusionMatrixDisplay.from_estimator(\n",
        "        model,\n",
        "        X_test,\n",
        "        y_test\n",
        "    )\n",
        "def class_report(model):\n",
        "    print(classification_report(\n",
        "        y_test,\n",
        "        model.predict(X_test)\n",
        "    ))"
      ],
      "id": "AZv_auph4f97"
    },
    {
      "cell_type": "markdown",
      "metadata": {
        "id": "r8V_XPiZ4f97"
      },
      "source": [
        "## LogisticRegression"
      ],
      "id": "r8V_XPiZ4f97"
    },
    {
      "cell_type": "code",
      "execution_count": 21,
      "metadata": {
        "id": "i6b5v8zq4f97"
      },
      "outputs": [],
      "source": [
        "model_lr = LogisticRegression()"
      ],
      "id": "i6b5v8zq4f97"
    },
    {
      "cell_type": "code",
      "execution_count": 22,
      "metadata": {
        "colab": {
          "base_uri": "https://localhost:8080/"
        },
        "id": "gi1bGPPR4f98",
        "outputId": "f2c86a0e-607a-40a6-e3c3-63e1d8f63aa3"
      },
      "outputs": [
        {
          "output_type": "stream",
          "name": "stdout",
          "text": [
            "Training accuracy of LogisticRegression is 0.9884615384615385\n",
            "testing accuracy of LogisticRegression is 0.9711538461538461\n"
          ]
        }
      ],
      "source": [
        "train(model_lr, 'LogisticRegression')"
      ],
      "id": "gi1bGPPR4f98"
    },
    {
      "cell_type": "code",
      "execution_count": 23,
      "metadata": {
        "colab": {
          "base_uri": "https://localhost:8080/",
          "height": 449
        },
        "id": "nSM9jzl34f98",
        "outputId": "e428f985-cdf6-48f6-bc86-1ccdab0471fc"
      },
      "outputs": [
        {
          "output_type": "display_data",
          "data": {
            "text/plain": [
              "<Figure size 640x480 with 2 Axes>"
            ],
            "image/png": "[encoded data removed]"
          },
          "metadata": {}
        }
      ],
      "source": [
        "conf_matrix(model_lr)"
      ],
      "id": "nSM9jzl34f98"
    },
    {
      "cell_type": "code",
      "execution_count": 24,
      "metadata": {
        "colab": {
          "base_uri": "https://localhost:8080/"
        },
        "id": "Y9XpPrHu4f98",
        "outputId": "7997a5e2-26ca-4fe9-8695-0552cd9fb87f"
      },
      "outputs": [
        {
          "output_type": "stream",
          "name": "stdout",
          "text": [
            "              precision    recall  f1-score   support\n",
            "\n",
            "           0       1.00      0.94      0.97      2062\n",
            "           1       0.95      1.00      0.97      2098\n",
            "\n",
            "    accuracy                           0.97      4160\n",
            "   macro avg       0.97      0.97      0.97      4160\n",
            "weighted avg       0.97      0.97      0.97      4160\n",
            "\n"
          ]
        }
      ],
      "source": [
        "class_report(model_lr)"
      ],
      "id": "Y9XpPrHu4f98"
    },
    {
      "cell_type": "markdown",
      "metadata": {
        "id": "mY4Y4IUz4f99"
      },
      "source": [
        "## SVM"
      ],
      "id": "mY4Y4IUz4f99"
    },
    {
      "cell_type": "code",
      "execution_count": 25,
      "metadata": {
        "id": "mA1Ggxm84f99"
      },
      "outputs": [],
      "source": [
        "svc_model= SVC()"
      ],
      "id": "mA1Ggxm84f99"
    },
    {
      "cell_type": "code",
      "execution_count": 26,
      "metadata": {
        "colab": {
          "base_uri": "https://localhost:8080/"
        },
        "id": "yXGBzJ9X4f99",
        "outputId": "26bd870e-af2e-483d-d7a1-e3a4b873475e"
      },
      "outputs": [
        {
          "output_type": "stream",
          "name": "stdout",
          "text": [
            "Training accuracy of SVM is 0.9996995192307693\n",
            "testing accuracy of SVM is 0.9848557692307692\n"
          ]
        }
      ],
      "source": [
        "train(svc_model, 'SVM')"
      ],
      "id": "yXGBzJ9X4f99"
    },
    {
      "cell_type": "code",
      "execution_count": 27,
      "metadata": {
        "colab": {
          "base_uri": "https://localhost:8080/",
          "height": 449
        },
        "id": "7xG4NQeW4f-T",
        "outputId": "2cd272e8-1999-45a8-a5b9-0f22a2a30ded"
      },
      "outputs": [
        {
          "output_type": "display_data",
          "data": {
            "text/plain": [
              "<Figure size 640x480 with 2 Axes>"
            ],
            "image/png": "[encoded data removed]"
          },
          "metadata": {}
        }
      ],
      "source": [
        "conf_matrix(svc_model)"
      ],
      "id": "7xG4NQeW4f-T"
    },
    {
      "cell_type": "code",
      "execution_count": 28,
      "metadata": {
        "colab": {
          "base_uri": "https://localhost:8080/"
        },
        "id": "QgWWiGX04f-U",
        "outputId": "ae87adef-617e-4961-cac7-9de88a68bca7"
      },
      "outputs": [
        {
          "output_type": "stream",
          "name": "stdout",
          "text": [
            "              precision    recall  f1-score   support\n",
            "\n",
            "           0       1.00      0.97      0.98      2062\n",
            "           1       0.97      1.00      0.99      2098\n",
            "\n",
            "    accuracy                           0.98      4160\n",
            "   macro avg       0.99      0.98      0.98      4160\n",
            "weighted avg       0.99      0.98      0.98      4160\n",
            "\n"
          ]
        }
      ],
      "source": [
        "class_report(svc_model)"
      ],
      "id": "QgWWiGX04f-U"
    },
    {
      "cell_type": "markdown",
      "metadata": {
        "id": "NilnFHsh4f-U"
      },
      "source": [
        "## DecisionTreeClassifier"
      ],
      "id": "NilnFHsh4f-U"
    },
    {
      "cell_type": "code",
      "execution_count": 29,
      "metadata": {
        "id": "2CFi7erC4f-V"
      },
      "outputs": [],
      "source": [
        "depth_num= range(50, 71, 2)\n",
        "training_acc= []\n",
        "testing_acc = []\n",
        "for depth in depth_num:\n",
        "    tree_model = DecisionTreeClassifier(max_depth=depth,random_state=42)\n",
        "    tree_model.fit(X_train,y_train)\n",
        "    training_acc.append(tree_model.score(X_train,y_train))\n",
        "    testing_acc.append(tree_model.score(X_test,y_test))"
      ],
      "id": "2CFi7erC4f-V"
    },
    {
      "cell_type": "code",
      "execution_count": 30,
      "metadata": {
        "colab": {
          "base_uri": "https://localhost:8080/"
        },
        "id": "WYberXe34f-V",
        "outputId": "93564e48-686f-4e23-9cc4-5b092e955a57"
      },
      "outputs": [
        {
          "output_type": "stream",
          "name": "stdout",
          "text": [
            "Training Accuracy Scores: [0.99609375, 0.9965144230769231, 0.996875]\n",
            "testing Accuracy Scores: [0.9915865384615384, 0.9918269230769231, 0.9944711538461538]\n"
          ]
        }
      ],
      "source": [
        "print(\"Training Accuracy Scores:\", training_acc[:3])\n",
        "print(\"testing Accuracy Scores:\", testing_acc[:3])"
      ],
      "id": "WYberXe34f-V"
    },
    {
      "cell_type": "code",
      "execution_count": 31,
      "metadata": {
        "colab": {
          "base_uri": "https://localhost:8080/",
          "height": 451
        },
        "id": "HGZ8UTQ74f-V",
        "outputId": "b88d3257-57a6-4303-ec21-03b925f69d58"
      },
      "outputs": [
        {
          "output_type": "display_data",
          "data": {
            "text/plain": [
              "<Figure size 640x480 with 1 Axes>"
            ],
            "image/png": "[encoded data removed]"
          },
          "metadata": {}
        }
      ],
      "source": [
        "plt.plot(depth_num , training_acc , label= 'Training')\n",
        "plt.plot(depth_num , testing_acc , label= 'Testing')\n",
        "plt.xlabel('Max_Depth')\n",
        "plt.ylabel('Accuracy_score')\n",
        "plt.legend();"
      ],
      "id": "HGZ8UTQ74f-V"
    },
    {
      "cell_type": "code",
      "execution_count": 32,
      "metadata": {
        "colab": {
          "base_uri": "https://localhost:8080/"
        },
        "id": "4qpK0Oj04f-W",
        "outputId": "69f80d96-b553-43fc-b2ee-70f3704d990c"
      },
      "outputs": [
        {
          "output_type": "stream",
          "name": "stdout",
          "text": [
            "Training accuracy of DesicionTreeClassifier is 0.9975961538461539\n",
            "testing accuracy of DesicionTreeClassifier is 0.9947115384615385\n"
          ]
        }
      ],
      "source": [
        "# final model\n",
        "tree_final_model=DecisionTreeClassifier(max_depth=58,random_state=42)\n",
        "tree_final_model.fit(X_train,y_train)\n",
        "tree_training_acc = tree_final_model.score(X_train,y_train)\n",
        "tree_testing_acc = tree_final_model.score(X_test,y_test)\n",
        "print(f\"Training accuracy of DesicionTreeClassifier is {tree_training_acc}\")\n",
        "print(f\"testing accuracy of DesicionTreeClassifier is {tree_testing_acc}\")"
      ],
      "id": "4qpK0Oj04f-W"
    },
    {
      "cell_type": "code",
      "execution_count": 33,
      "metadata": {
        "colab": {
          "base_uri": "https://localhost:8080/",
          "height": 449
        },
        "id": "4m9cspgz4f-W",
        "outputId": "f74fe160-be1e-469c-a9f4-4c1f5d6f199b"
      },
      "outputs": [
        {
          "output_type": "display_data",
          "data": {
            "text/plain": [
              "<Figure size 640x480 with 2 Axes>"
            ],
            "image/png": "[encoded data removed]"
          },
          "metadata": {}
        }
      ],
      "source": [
        "conf_matrix(tree_final_model)"
      ],
      "id": "4m9cspgz4f-W"
    },
    {
      "cell_type": "code",
      "execution_count": 34,
      "metadata": {
        "colab": {
          "base_uri": "https://localhost:8080/"
        },
        "id": "jqkqVYlQ4f-X",
        "outputId": "05e21a60-9bf3-4741-f8ff-a2449106ebb8"
      },
      "outputs": [
        {
          "output_type": "stream",
          "name": "stdout",
          "text": [
            "              precision    recall  f1-score   support\n",
            "\n",
            "           0       1.00      0.99      0.99      2062\n",
            "           1       0.99      1.00      0.99      2098\n",
            "\n",
            "    accuracy                           0.99      4160\n",
            "   macro avg       0.99      0.99      0.99      4160\n",
            "weighted avg       0.99      0.99      0.99      4160\n",
            "\n"
          ]
        }
      ],
      "source": [
        "class_report(tree_final_model)"
      ],
      "id": "jqkqVYlQ4f-X"
    },
    {
      "cell_type": "markdown",
      "metadata": {
        "id": "8h87QxSP4f-X"
      },
      "source": [
        "## RandomForestClassifier"
      ],
      "id": "8h87QxSP4f-X"
    },
    {
      "cell_type": "code",
      "execution_count": 35,
      "metadata": {
        "colab": {
          "base_uri": "https://localhost:8080/"
        },
        "id": "vQFVxYSf4f-Y",
        "outputId": "fd133dee-45db-4d44-8472-2f19e7c3d22b"
      },
      "outputs": [
        {
          "output_type": "execute_result",
          "data": {
            "text/plain": [
              "{'n_estimators': range(50, 125, 25), 'max_depth': range(60, 81, 2)}"
            ]
          },
          "metadata": {},
          "execution_count": 35
        }
      ],
      "source": [
        "clf= RandomForestClassifier(random_state=42)\n",
        "params={\n",
        "    \"n_estimators\": range(50,125,25),\n",
        "    \"max_depth\": range(60,81,2)\n",
        "}\n",
        "params"
      ],
      "id": "vQFVxYSf4f-Y"
    },
    {
      "cell_type": "code",
      "execution_count": 36,
      "metadata": {
        "id": "X_DUPwCK4f-Y"
      },
      "outputs": [],
      "source": [
        "rfc_model = GridSearchCV(\n",
        "    clf,\n",
        "    param_grid= params,\n",
        "    cv= 5,\n",
        "    n_jobs= -1,\n",
        "    verbose=1\n",
        ")"
      ],
      "id": "X_DUPwCK4f-Y"
    },
    {
      "cell_type": "code",
      "execution_count": 37,
      "metadata": {
        "colab": {
          "base_uri": "https://localhost:8080/",
          "height": 135
        },
        "id": "SXW-WLho4f-Y",
        "outputId": "4ef74600-5fab-4fda-b1fd-29528da34b57"
      },
      "outputs": [
        {
          "metadata": {
            "tags": null
          },
          "name": "stdout",
          "output_type": "stream",
          "text": [
            "Fitting 5 folds for each of 33 candidates, totalling 165 fits\n"
          ]
        },
        {
          "output_type": "execute_result",
          "data": {
            "text/plain": [
              "GridSearchCV(cv=5, estimator=RandomForestClassifier(random_state=42), n_jobs=-1,\n",
              "             param_grid={'max_depth': range(60, 81, 2),\n",
              "                         'n_estimators': range(50, 125, 25)},\n",
              "             verbose=1)"
            ],
            "text/html": [
              "<style>#sk-container-id-1 {color: black;background-color: white;}#sk-container-id-1 pre{padding: 0;}#sk-container-id-1 div.sk-toggleable {background-color: white;}#sk-container-id-1 label.sk-toggleable__label {cursor: pointer;display: block;width: 100%;margin-bottom: 0;padding: 0.3em;box-sizing: border-box;text-align: center;}#sk-container-id-1 label.sk-toggleable__label-arrow:before {content: \"▸\";float: left;margin-right: 0.25em;color: #696969;}#sk-container-id-1 label.sk-toggleable__label-arrow:hover:before {color: black;}#sk-container-id-1 div.sk-estimator:hover label.sk-toggleable__label-arrow:before {color: black;}#sk-container-id-1 div.sk-toggleable__content {max-height: 0;max-width: 0;overflow: hidden;text-align: left;background-color: #f0f8ff;}#sk-container-id-1 div.sk-toggleable__content pre {margin: 0.2em;color: black;border-radius: 0.25em;background-color: #f0f8ff;}#sk-container-id-1 input.sk-toggleable__control:checked~div.sk-toggleable__content {max-height: 200px;max-width: 100%;overflow: auto;}#sk-container-id-1 input.sk-toggleable__control:checked~label.sk-toggleable__label-arrow:before {content: \"▾\";}#sk-container-id-1 div.sk-estimator input.sk-toggleable__control:checked~label.sk-toggleable__label {background-color: #d4ebff;}#sk-container-id-1 div.sk-label input.sk-toggleable__control:checked~label.sk-toggleable__label {background-color: #d4ebff;}#sk-container-id-1 input.sk-hidden--visually {border: 0;clip: rect(1px 1px 1px 1px);clip: rect(1px, 1px, 1px, 1px);height: 1px;margin: -1px;overflow: hidden;padding: 0;position: absolute;width: 1px;}#sk-container-id-1 div.sk-estimator {font-family: monospace;background-color: #f0f8ff;border: 1px dotted black;border-radius: 0.25em;box-sizing: border-box;margin-bottom: 0.5em;}#sk-container-id-1 div.sk-estimator:hover {background-color: #d4ebff;}#sk-container-id-1 div.sk-parallel-item::after {content: \"\";width: 100%;border-bottom: 1px solid gray;flex-grow: 1;}#sk-container-id-1 div.sk-label:hover label.sk-toggleable__label {background-color: #d4ebff;}#sk-container-id-1 div.sk-serial::before {content: \"\";position: absolute;border-left: 1px solid gray;box-sizing: border-box;top: 0;bottom: 0;left: 50%;z-index: 0;}#sk-container-id-1 div.sk-serial {display: flex;flex-direction: column;align-items: center;background-color: white;padding-right: 0.2em;padding-left: 0.2em;position: relative;}#sk-container-id-1 div.sk-item {position: relative;z-index: 1;}#sk-container-id-1 div.sk-parallel {display: flex;align-items: stretch;justify-content: center;background-color: white;position: relative;}#sk-container-id-1 div.sk-item::before, #sk-container-id-1 div.sk-parallel-item::before {content: \"\";position: absolute;border-left: 1px solid gray;box-sizing: border-box;top: 0;bottom: 0;left: 50%;z-index: -1;}#sk-container-id-1 div.sk-parallel-item {display: flex;flex-direction: column;z-index: 1;position: relative;background-color: white;}#sk-container-id-1 div.sk-parallel-item:first-child::after {align-self: flex-end;width: 50%;}#sk-container-id-1 div.sk-parallel-item:last-child::after {align-self: flex-start;width: 50%;}#sk-container-id-1 div.sk-parallel-item:only-child::after {width: 0;}#sk-container-id-1 div.sk-dashed-wrapped {border: 1px dashed gray;margin: 0 0.4em 0.5em 0.4em;box-sizing: border-box;padding-bottom: 0.4em;background-color: white;}#sk-container-id-1 div.sk-label label {font-family: monospace;font-weight: bold;display: inline-block;line-height: 1.2em;}#sk-container-id-1 div.sk-label-container {text-align: center;}#sk-container-id-1 div.sk-container {/* jupyter's `normalize.less` sets `[hidden] { display: none; }` but bootstrap.min.css set `[hidden] { display: none !important; }` so we also need the `!important` here to be able to override the default hidden behavior on the sphinx rendered scikit-learn.org. See: https://github.com/scikit-learn/scikit-learn/issues/21755 */display: inline-block !important;position: relative;}#sk-container-id-1 div.sk-text-repr-fallback {display: none;}</style><div id=\"sk-container-id-1\" class=\"sk-top-container\"><div class=\"sk-text-repr-fallback\"><pre>GridSearchCV(cv=5, estimator=RandomForestClassifier(random_state=42), n_jobs=-1,\n",
              "             param_grid={&#x27;max_depth&#x27;: range(60, 81, 2),\n",
              "                         &#x27;n_estimators&#x27;: range(50, 125, 25)},\n",
              "             verbose=1)</pre><b>In a Jupyter environment, please rerun this cell to show the HTML representation or trust the notebook. <br />On GitHub, the HTML representation is unable to render, please try loading this page with nbviewer.org.</b></div><div class=\"sk-container\" hidden><div class=\"sk-item sk-dashed-wrapped\"><div class=\"sk-label-container\"><div class=\"sk-label sk-toggleable\"><input class=\"sk-toggleable__control sk-hidden--visually\" id=\"sk-estimator-id-1\" type=\"checkbox\" ><label for=\"sk-estimator-id-1\" class=\"sk-toggleable__label sk-toggleable__label-arrow\">GridSearchCV</label><div class=\"sk-toggleable__content\"><pre>GridSearchCV(cv=5, estimator=RandomForestClassifier(random_state=42), n_jobs=-1,\n",
              "             param_grid={&#x27;max_depth&#x27;: range(60, 81, 2),\n",
              "                         &#x27;n_estimators&#x27;: range(50, 125, 25)},\n",
              "             verbose=1)</pre></div></div></div><div class=\"sk-parallel\"><div class=\"sk-parallel-item\"><div class=\"sk-item\"><div class=\"sk-label-container\"><div class=\"sk-label sk-toggleable\"><input class=\"sk-toggleable__control sk-hidden--visually\" id=\"sk-estimator-id-2\" type=\"checkbox\" ><label for=\"sk-estimator-id-2\" class=\"sk-toggleable__label sk-toggleable__label-arrow\">estimator: RandomForestClassifier</label><div class=\"sk-toggleable__content\"><pre>RandomForestClassifier(random_state=42)</pre></div></div></div><div class=\"sk-serial\"><div class=\"sk-item\"><div class=\"sk-estimator sk-toggleable\"><input class=\"sk-toggleable__control sk-hidden--visually\" id=\"sk-estimator-id-3\" type=\"checkbox\" ><label for=\"sk-estimator-id-3\" class=\"sk-toggleable__label sk-toggleable__label-arrow\">RandomForestClassifier</label><div class=\"sk-toggleable__content\"><pre>RandomForestClassifier(random_state=42)</pre></div></div></div></div></div></div></div></div></div></div>"
            ]
          },
          "metadata": {},
          "execution_count": 37
        }
      ],
      "source": [
        "rfc_model.fit(X_train,y_train)"
      ],
      "id": "SXW-WLho4f-Y"
    },
    {
      "cell_type": "code",
      "execution_count": 38,
      "metadata": {
        "id": "WuaEG_nb4f-Z",
        "colab": {
          "base_uri": "https://localhost:8080/",
          "height": 903
        },
        "outputId": "22795b25-72d7-4521-e384-52e5a3e134d5"
      },
      "outputs": [
        {
          "output_type": "execute_result",
          "data": {
            "text/plain": [
              "    mean_fit_time  std_fit_time  mean_score_time  std_score_time  \\\n",
              "26      68.864649      2.780308         0.237410        0.075360   \n",
              "29      67.753742      0.788381         0.193526        0.021915   \n",
              "25      51.177423      0.608122         0.152052        0.023799   \n",
              "28      52.932869      1.946451         0.187726        0.067072   \n",
              "23      68.058974      1.749446         0.222827        0.047056   \n",
              "32      67.505968      5.409452         0.214995        0.061486   \n",
              "20      67.060903      1.783719         0.215000        0.051425   \n",
              "24      34.181669      0.273533         0.139175        0.046606   \n",
              "31      54.007323      2.388842         0.141098        0.016275   \n",
              "22      50.499104      0.178062         0.129265        0.008169   \n",
              "\n",
              "   param_max_depth param_n_estimators                                  params  \\\n",
              "26              76                100  {'max_depth': 76, 'n_estimators': 100}   \n",
              "29              78                100  {'max_depth': 78, 'n_estimators': 100}   \n",
              "25              76                 75   {'max_depth': 76, 'n_estimators': 75}   \n",
              "28              78                 75   {'max_depth': 78, 'n_estimators': 75}   \n",
              "23              74                100  {'max_depth': 74, 'n_estimators': 100}   \n",
              "32              80                100  {'max_depth': 80, 'n_estimators': 100}   \n",
              "20              72                100  {'max_depth': 72, 'n_estimators': 100}   \n",
              "24              76                 50   {'max_depth': 76, 'n_estimators': 50}   \n",
              "31              80                 75   {'max_depth': 80, 'n_estimators': 75}   \n",
              "22              74                 75   {'max_depth': 74, 'n_estimators': 75}   \n",
              "\n",
              "    split0_test_score  split1_test_score  split2_test_score  \\\n",
              "26           0.968450           0.964243           0.967248   \n",
              "29           0.969651           0.963942           0.965745   \n",
              "25           0.965144           0.961839           0.966046   \n",
              "28           0.965445           0.962440           0.963341   \n",
              "23           0.968450           0.963642           0.965144   \n",
              "32           0.968149           0.964243           0.963942   \n",
              "20           0.965144           0.960938           0.966046   \n",
              "24           0.963942           0.960337           0.966947   \n",
              "31           0.963041           0.960637           0.962440   \n",
              "22           0.964543           0.958233           0.963341   \n",
              "\n",
              "    split3_test_score  split4_test_score  mean_test_score  std_test_score  \\\n",
              "26           0.969050           0.971755         0.968149        0.002449   \n",
              "29           0.967548           0.970252         0.967428        0.002363   \n",
              "25           0.967248           0.974159         0.966887        0.004055   \n",
              "28           0.968450           0.974459         0.966827        0.004340   \n",
              "23           0.966947           0.969050         0.966647        0.002020   \n",
              "32           0.967248           0.967849         0.966286        0.001817   \n",
              "20           0.966346           0.969050         0.965505        0.002629   \n",
              "24           0.963642           0.970252         0.965024        0.003349   \n",
              "31           0.966346           0.971454         0.964784        0.003812   \n",
              "22           0.963642           0.972957         0.964543        0.004751   \n",
              "\n",
              "    rank_test_score  \n",
              "26                1  \n",
              "29                2  \n",
              "25                3  \n",
              "28                4  \n",
              "23                5  \n",
              "32                6  \n",
              "20                7  \n",
              "24                8  \n",
              "31                9  \n",
              "22               10  "
            ],
            "text/html": [
              "\n",
              "  <div id=\"df-5f89fa0c-742a-45e4-bddc-515c9fefdbd4\" class=\"colab-df-container\">\n",
              "    <div>\n",
              "<style scoped>\n",
              "    .dataframe tbody tr th:only-of-type {\n",
              "        vertical-align: middle;\n",
              "    }\n",
              "\n",
              "    .dataframe tbody tr th {\n",
              "        vertical-align: top;\n",
              "    }\n",
              "\n",
              "    .dataframe thead th {\n",
              "        text-align: right;\n",
              "    }\n",
              "</style>\n",
              "<table border=\"1\" class=\"dataframe\">\n",
              "  <thead>\n",
              "    <tr style=\"text-align: right;\">\n",
              "      <th></th>\n",
              "      <th>mean_fit_time</th>\n",
              "      <th>std_fit_time</th>\n",
              "      <th>mean_score_time</th>\n",
              "      <th>std_score_time</th>\n",
              "      <th>param_max_depth</th>\n",
              "      <th>param_n_estimators</th>\n",
              "      <th>params</th>\n",
              "      <th>split0_test_score</th>\n",
              "      <th>split1_test_score</th>\n",
              "      <th>split2_test_score</th>\n",
              "      <th>split3_test_score</th>\n",
              "      <th>split4_test_score</th>\n",
              "      <th>mean_test_score</th>\n",
              "      <th>std_test_score</th>\n",
              "      <th>rank_test_score</th>\n",
              "    </tr>\n",
              "  </thead>\n",
              "  <tbody>\n",
              "    <tr>\n",
              "      <th>26</th>\n",
              "      <td>68.864649</td>\n",
              "      <td>2.780308</td>\n",
              "      <td>0.237410</td>\n",
              "      <td>0.075360</td>\n",
              "      <td>76</td>\n",
              "      <td>100</td>\n",
              "      <td>{'max_depth': 76, 'n_estimators': 100}</td>\n",
              "      <td>0.968450</td>\n",
              "      <td>0.964243</td>\n",
              "      <td>0.967248</td>\n",
              "      <td>0.969050</td>\n",
              "      <td>0.971755</td>\n",
              "      <td>0.968149</td>\n",
              "      <td>0.002449</td>\n",
              "      <td>1</td>\n",
              "    </tr>\n",
              "    <tr>\n",
              "      <th>29</th>\n",
              "      <td>67.753742</td>\n",
              "      <td>0.788381</td>\n",
              "      <td>0.193526</td>\n",
              "      <td>0.021915</td>\n",
              "      <td>78</td>\n",
              "      <td>100</td>\n",
              "      <td>{'max_depth': 78, 'n_estimators': 100}</td>\n",
              "      <td>0.969651</td>\n",
              "      <td>0.963942</td>\n",
              "      <td>0.965745</td>\n",
              "      <td>0.967548</td>\n",
              "      <td>0.970252</td>\n",
              "      <td>0.967428</td>\n",
              "      <td>0.002363</td>\n",
              "      <td>2</td>\n",
              "    </tr>\n",
              "    <tr>\n",
              "      <th>25</th>\n",
              "      <td>51.177423</td>\n",
              "      <td>0.608122</td>\n",
              "      <td>0.152052</td>\n",
              "      <td>0.023799</td>\n",
              "      <td>76</td>\n",
              "      <td>75</td>\n",
              "      <td>{'max_depth': 76, 'n_estimators': 75}</td>\n",
              "      <td>0.965144</td>\n",
              "      <td>0.961839</td>\n",
              "      <td>0.966046</td>\n",
              "      <td>0.967248</td>\n",
              "      <td>0.974159</td>\n",
              "      <td>0.966887</td>\n",
              "      <td>0.004055</td>\n",
              "      <td>3</td>\n",
              "    </tr>\n",
              "    <tr>\n",
              "      <th>28</th>\n",
              "      <td>52.932869</td>\n",
              "      <td>1.946451</td>\n",
              "      <td>0.187726</td>\n",
              "      <td>0.067072</td>\n",
              "      <td>78</td>\n",
              "      <td>75</td>\n",
              "      <td>{'max_depth': 78, 'n_estimators': 75}</td>\n",
              "      <td>0.965445</td>\n",
              "      <td>0.962440</td>\n",
              "      <td>0.963341</td>\n",
              "      <td>0.968450</td>\n",
              "      <td>0.974459</td>\n",
              "      <td>0.966827</td>\n",
              "      <td>0.004340</td>\n",
              "      <td>4</td>\n",
              "    </tr>\n",
              "    <tr>\n",
              "      <th>23</th>\n",
              "      <td>68.058974</td>\n",
              "      <td>1.749446</td>\n",
              "      <td>0.222827</td>\n",
              "      <td>0.047056</td>\n",
              "      <td>74</td>\n",
              "      <td>100</td>\n",
              "      <td>{'max_depth': 74, 'n_estimators': 100}</td>\n",
              "      <td>0.968450</td>\n",
              "      <td>0.963642</td>\n",
              "      <td>0.965144</td>\n",
              "      <td>0.966947</td>\n",
              "      <td>0.969050</td>\n",
              "      <td>0.966647</td>\n",
              "      <td>0.002020</td>\n",
              "      <td>5</td>\n",
              "    </tr>\n",
              "    <tr>\n",
              "      <th>32</th>\n",
              "      <td>67.505968</td>\n",
              "      <td>5.409452</td>\n",
              "      <td>0.214995</td>\n",
              "      <td>0.061486</td>\n",
              "      <td>80</td>\n",
              "      <td>100</td>\n",
              "      <td>{'max_depth': 80, 'n_estimators': 100}</td>\n",
              "      <td>0.968149</td>\n",
              "      <td>0.964243</td>\n",
              "      <td>0.963942</td>\n",
              "      <td>0.967248</td>\n",
              "      <td>0.967849</td>\n",
              "      <td>0.966286</td>\n",
              "      <td>0.001817</td>\n",
              "      <td>6</td>\n",
              "    </tr>\n",
              "    <tr>\n",
              "      <th>20</th>\n",
              "      <td>67.060903</td>\n",
              "      <td>1.783719</td>\n",
              "      <td>0.215000</td>\n",
              "      <td>0.051425</td>\n",
              "      <td>72</td>\n",
              "      <td>100</td>\n",
              "      <td>{'max_depth': 72, 'n_estimators': 100}</td>\n",
              "      <td>0.965144</td>\n",
              "      <td>0.960938</td>\n",
              "      <td>0.966046</td>\n",
              "      <td>0.966346</td>\n",
              "      <td>0.969050</td>\n",
              "      <td>0.965505</td>\n",
              "      <td>0.002629</td>\n",
              "      <td>7</td>\n",
              "    </tr>\n",
              "    <tr>\n",
              "      <th>24</th>\n",
              "      <td>34.181669</td>\n",
              "      <td>0.273533</td>\n",
              "      <td>0.139175</td>\n",
              "      <td>0.046606</td>\n",
              "      <td>76</td>\n",
              "      <td>50</td>\n",
              "      <td>{'max_depth': 76, 'n_estimators': 50}</td>\n",
              "      <td>0.963942</td>\n",
              "      <td>0.960337</td>\n",
              "      <td>0.966947</td>\n",
              "      <td>0.963642</td>\n",
              "      <td>0.970252</td>\n",
              "      <td>0.965024</td>\n",
              "      <td>0.003349</td>\n",
              "      <td>8</td>\n",
              "    </tr>\n",
              "    <tr>\n",
              "      <th>31</th>\n",
              "      <td>54.007323</td>\n",
              "      <td>2.388842</td>\n",
              "      <td>0.141098</td>\n",
              "      <td>0.016275</td>\n",
              "      <td>80</td>\n",
              "      <td>75</td>\n",
              "      <td>{'max_depth': 80, 'n_estimators': 75}</td>\n",
              "      <td>0.963041</td>\n",
              "      <td>0.960637</td>\n",
              "      <td>0.962440</td>\n",
              "      <td>0.966346</td>\n",
              "      <td>0.971454</td>\n",
              "      <td>0.964784</td>\n",
              "      <td>0.003812</td>\n",
              "      <td>9</td>\n",
              "    </tr>\n",
              "    <tr>\n",
              "      <th>22</th>\n",
              "      <td>50.499104</td>\n",
              "      <td>0.178062</td>\n",
              "      <td>0.129265</td>\n",
              "      <td>0.008169</td>\n",
              "      <td>74</td>\n",
              "      <td>75</td>\n",
              "      <td>{'max_depth': 74, 'n_estimators': 75}</td>\n",
              "      <td>0.964543</td>\n",
              "      <td>0.958233</td>\n",
              "      <td>0.963341</td>\n",
              "      <td>0.963642</td>\n",
              "      <td>0.972957</td>\n",
              "      <td>0.964543</td>\n",
              "      <td>0.004751</td>\n",
              "      <td>10</td>\n",
              "    </tr>\n",
              "  </tbody>\n",
              "</table>\n",
              "</div>\n",
              "    <div class=\"colab-df-buttons\">\n",
              "\n",
              "  <div class=\"colab-df-container\">\n",
              "    <button class=\"colab-df-convert\" onclick=\"convertToInteractive('df-5f89fa0c-742a-45e4-bddc-515c9fefdbd4')\"\n",
              "            title=\"Convert this dataframe to an interactive table.\"\n",
              "            style=\"display:none;\">\n",
              "\n",
              "  <svg xmlns=\"http://www.w3.org/2000/svg\" height=\"24px\" viewBox=\"0 -960 960 960\">\n",
              "    <path d=\"M120-120v-720h720v720H120Zm60-500h600v-160H180v160Zm220 220h160v-160H400v160Zm0 220h160v-160H400v160ZM180-400h160v-160H180v160Zm440 0h160v-160H620v160ZM180-180h160v-160H180v160Zm440 0h160v-160H620v160Z\"/>\n",
              "  </svg>\n",
              "    </button>\n",
              "\n",
              "  <style>\n",
              "    .colab-df-container {\n",
              "      display:flex;\n",
              "      gap: 12px;\n",
              "    }\n",
              "\n",
              "    .colab-df-convert {\n",
              "      background-color: #E8F0FE;\n",
              "      border: none;\n",
              "      border-radius: 50%;\n",
              "      cursor: pointer;\n",
              "      display: none;\n",
              "      fill: #1967D2;\n",
              "      height: 32px;\n",
              "      padding: 0 0 0 0;\n",
              "      width: 32px;\n",
              "    }\n",
              "\n",
              "    .colab-df-convert:hover {\n",
              "      background-color: #E2EBFA;\n",
              "      box-shadow: 0px 1px 2px rgba(60, 64, 67, 0.3), 0px 1px 3px 1px rgba(60, 64, 67, 0.15);\n",
              "      fill: #174EA6;\n",
              "    }\n",
              "\n",
              "    .colab-df-buttons div {\n",
              "      margin-bottom: 4px;\n",
              "    }\n",
              "\n",
              "    [theme=dark] .colab-df-convert {\n",
              "      background-color: #3B4455;\n",
              "      fill: #D2E3FC;\n",
              "    }\n",
              "\n",
              "    [theme=dark] .colab-df-convert:hover {\n",
              "      background-color: #434B5C;\n",
              "      box-shadow: 0px 1px 3px 1px rgba(0, 0, 0, 0.15);\n",
              "      filter: drop-shadow(0px 1px 2px rgba(0, 0, 0, 0.3));\n",
              "      fill: #FFFFFF;\n",
              "    }\n",
              "  </style>\n",
              "\n",
              "    <script>\n",
              "      const buttonEl =\n",
              "        document.querySelector('#df-5f89fa0c-742a-45e4-bddc-515c9fefdbd4 button.colab-df-convert');\n",
              "      buttonEl.style.display =\n",
              "        google.colab.kernel.accessAllowed ? 'block' : 'none';\n",
              "\n",
              "      async function convertToInteractive(key) {\n",
              "        const element = document.querySelector('#df-5f89fa0c-742a-45e4-bddc-515c9fefdbd4');\n",
              "        const dataTable =\n",
              "          await google.colab.kernel.invokeFunction('convertToInteractive',\n",
              "                                                    [key], {});\n",
              "        if (!dataTable) return;\n",
              "\n",
              "        const docLinkHtml = 'Like what you see? Visit the ' +\n",
              "          '<a target=\"_blank\" href=https://colab.research.google.com/notebooks/data_table.ipynb>data table notebook</a>'\n",
              "          + ' to learn more about interactive tables.';\n",
              "        element.innerHTML = '';\n",
              "        dataTable['output_type'] = 'display_data';\n",
              "        await google.colab.output.renderOutput(dataTable, element);\n",
              "        const docLink = document.createElement('div');\n",
              "        docLink.innerHTML = docLinkHtml;\n",
              "        element.appendChild(docLink);\n",
              "      }\n",
              "    </script>\n",
              "  </div>\n",
              "\n",
              "\n",
              "<div id=\"df-17273443-a398-47a1-a98e-45fa9be0fbf3\">\n",
              "  <button class=\"colab-df-quickchart\" onclick=\"quickchart('df-17273443-a398-47a1-a98e-45fa9be0fbf3')\"\n",
              "            title=\"Suggest charts\"\n",
              "            style=\"display:none;\">\n",
              "\n",
              "<svg xmlns=\"http://www.w3.org/2000/svg\" height=\"24px\"viewBox=\"0 0 24 24\"\n",
              "     width=\"24px\">\n",
              "    <g>\n",
              "        <path d=\"M19 3H5c-1.1 0-2 .9-2 2v14c0 1.1.9 2 2 2h14c1.1 0 2-.9 2-2V5c0-1.1-.9-2-2-2zM9 17H7v-7h2v7zm4 0h-2V7h2v10zm4 0h-2v-4h2v4z\"/>\n",
              "    </g>\n",
              "</svg>\n",
              "  </button>\n",
              "\n",
              "<style>\n",
              "  .colab-df-quickchart {\n",
              "      --bg-color: #E8F0FE;\n",
              "      --fill-color: #1967D2;\n",
              "      --hover-bg-color: #E2EBFA;\n",
              "      --hover-fill-color: #174EA6;\n",
              "      --disabled-fill-color: #AAA;\n",
              "      --disabled-bg-color: #DDD;\n",
              "  }\n",
              "\n",
              "  [theme=dark] .colab-df-quickchart {\n",
              "      --bg-color: #3B4455;\n",
              "      --fill-color: #D2E3FC;\n",
              "      --hover-bg-color: #434B5C;\n",
              "      --hover-fill-color: #FFFFFF;\n",
              "      --disabled-bg-color: #3B4455;\n",
              "      --disabled-fill-color: #666;\n",
              "  }\n",
              "\n",
              "  .colab-df-quickchart {\n",
              "    background-color: var(--bg-color);\n",
              "    border: none;\n",
              "    border-radius: 50%;\n",
              "    cursor: pointer;\n",
              "    display: none;\n",
              "    fill: var(--fill-color);\n",
              "    height: 32px;\n",
              "    padding: 0;\n",
              "    width: 32px;\n",
              "  }\n",
              "\n",
              "  .colab-df-quickchart:hover {\n",
              "    background-color: var(--hover-bg-color);\n",
              "    box-shadow: 0 1px 2px rgba(60, 64, 67, 0.3), 0 1px 3px 1px rgba(60, 64, 67, 0.15);\n",
              "    fill: var(--button-hover-fill-color);\n",
              "  }\n",
              "\n",
              "  .colab-df-quickchart-complete:disabled,\n",
              "  .colab-df-quickchart-complete:disabled:hover {\n",
              "    background-color: var(--disabled-bg-color);\n",
              "    fill: var(--disabled-fill-color);\n",
              "    box-shadow: none;\n",
              "  }\n",
              "\n",
              "  .colab-df-spinner {\n",
              "    border: 2px solid var(--fill-color);\n",
              "    border-color: transparent;\n",
              "    border-bottom-color: var(--fill-color);\n",
              "    animation:\n",
              "      spin 1s steps(1) infinite;\n",
              "  }\n",
              "\n",
              "  @keyframes spin {\n",
              "    0% {\n",
              "      border-color: transparent;\n",
              "      border-bottom-color: var(--fill-color);\n",
              "      border-left-color: var(--fill-color);\n",
              "    }\n",
              "    20% {\n",
              "      border-color: transparent;\n",
              "      border-left-color: var(--fill-color);\n",
              "      border-top-color: var(--fill-color);\n",
              "    }\n",
              "    30% {\n",
              "      border-color: transparent;\n",
              "      border-left-color: var(--fill-color);\n",
              "      border-top-color: var(--fill-color);\n",
              "      border-right-color: var(--fill-color);\n",
              "    }\n",
              "    40% {\n",
              "      border-color: transparent;\n",
              "      border-right-color: var(--fill-color);\n",
              "      border-top-color: var(--fill-color);\n",
              "    }\n",
              "    60% {\n",
              "      border-color: transparent;\n",
              "      border-right-color: var(--fill-color);\n",
              "    }\n",
              "    80% {\n",
              "      border-color: transparent;\n",
              "      border-right-color: var(--fill-color);\n",
              "      border-bottom-color: var(--fill-color);\n",
              "    }\n",
              "    90% {\n",
              "      border-color: transparent;\n",
              "      border-bottom-color: var(--fill-color);\n",
              "    }\n",
              "  }\n",
              "</style>\n",
              "\n",
              "  <script>\n",
              "    async function quickchart(key) {\n",
              "      const quickchartButtonEl =\n",
              "        document.querySelector('#' + key + ' button');\n",
              "      quickchartButtonEl.disabled = true;  // To prevent multiple clicks.\n",
              "      quickchartButtonEl.classList.add('colab-df-spinner');\n",
              "      try {\n",
              "        const charts = await google.colab.kernel.invokeFunction(\n",
              "            'suggestCharts', [key], {});\n",
              "      } catch (error) {\n",
              "        console.error('Error during call to suggestCharts:', error);\n",
              "      }\n",
              "      quickchartButtonEl.classList.remove('colab-df-spinner');\n",
              "      quickchartButtonEl.classList.add('colab-df-quickchart-complete');\n",
              "    }\n",
              "    (() => {\n",
              "      let quickchartButtonEl =\n",
              "        document.querySelector('#df-17273443-a398-47a1-a98e-45fa9be0fbf3 button');\n",
              "      quickchartButtonEl.style.display =\n",
              "        google.colab.kernel.accessAllowed ? 'block' : 'none';\n",
              "    })();\n",
              "  </script>\n",
              "</div>\n",
              "\n",
              "    </div>\n",
              "  </div>\n"
            ]
          },
          "metadata": {},
          "execution_count": 38
        }
      ],
      "source": [
        "cv_results= pd.DataFrame(rfc_model.cv_results_)\n",
        "cv_results.sort_values('rank_test_score').head(10)"
      ],
      "id": "WuaEG_nb4f-Z"
    },
    {
      "cell_type": "code",
      "execution_count": 39,
      "metadata": {
        "id": "yBx6WeZg4f-Z",
        "outputId": "1ffd4ab7-84cc-41d3-8e75-3234b493e0e9",
        "colab": {
          "base_uri": "https://localhost:8080/"
        }
      },
      "outputs": [
        {
          "output_type": "execute_result",
          "data": {
            "text/plain": [
              "{'max_depth': 76, 'n_estimators': 100}"
            ]
          },
          "metadata": {},
          "execution_count": 39
        }
      ],
      "source": [
        "rfc_model.best_params_"
      ],
      "id": "yBx6WeZg4f-Z"
    },
    {
      "cell_type": "code",
      "execution_count": 40,
      "metadata": {
        "id": "mKj-HyGr4f-Z",
        "outputId": "8a9b060d-a04b-482f-b878-07ae5a9b6550",
        "colab": {
          "base_uri": "https://localhost:8080/"
        }
      },
      "outputs": [
        {
          "output_type": "execute_result",
          "data": {
            "text/plain": [
              "array([1, 1, 0, ..., 1, 0, 1])"
            ]
          },
          "metadata": {},
          "execution_count": 40
        }
      ],
      "source": [
        "rfc_model.predict(X_test)"
      ],
      "id": "mKj-HyGr4f-Z"
    },
    {
      "cell_type": "code",
      "execution_count": 41,
      "metadata": {
        "id": "okNY-cG44f-a",
        "outputId": "01e1c40a-24c6-4fc3-824d-8b21c32a6352",
        "colab": {
          "base_uri": "https://localhost:8080/"
        }
      },
      "outputs": [
        {
          "output_type": "stream",
          "name": "stdout",
          "text": [
            "Training accuracy: 0.9822\n",
            "test accuracy: 0.9692\n"
          ]
        }
      ],
      "source": [
        "acc_train = rfc_model.score(X_train , y_train)\n",
        "acc_test = rfc_model.score(X_test , y_test)\n",
        "\n",
        "print(f\"Training accuracy: {round(acc_train , 4)}\")\n",
        "print(f\"test accuracy: {round(acc_test , 4)}\")"
      ],
      "id": "okNY-cG44f-a"
    },
    {
      "cell_type": "code",
      "execution_count": 42,
      "metadata": {
        "id": "aPN5zEqp4f-a",
        "outputId": "54b53b9b-5a1f-450b-e056-0c5fede39268",
        "colab": {
          "base_uri": "https://localhost:8080/",
          "height": 449
        }
      },
      "outputs": [
        {
          "output_type": "display_data",
          "data": {
            "text/plain": [
              "<Figure size 640x480 with 2 Axes>"
            ],
            "image/png": "[encoded data removed]"
          },
          "metadata": {}
        }
      ],
      "source": [
        "conf_matrix(rfc_model)"
      ],
      "id": "aPN5zEqp4f-a"
    },
    {
      "cell_type": "code",
      "execution_count": 43,
      "metadata": {
        "id": "OWPrOD-B4f-b",
        "outputId": "3752eb99-796b-4c27-ca5f-84a028de81ea",
        "colab": {
          "base_uri": "https://localhost:8080/"
        }
      },
      "outputs": [
        {
          "output_type": "stream",
          "name": "stdout",
          "text": [
            "              precision    recall  f1-score   support\n",
            "\n",
            "           0       1.00      0.94      0.97      2062\n",
            "           1       0.94      1.00      0.97      2098\n",
            "\n",
            "    accuracy                           0.97      4160\n",
            "   macro avg       0.97      0.97      0.97      4160\n",
            "weighted avg       0.97      0.97      0.97      4160\n",
            "\n"
          ]
        }
      ],
      "source": [
        "class_report(rfc_model)"
      ],
      "id": "OWPrOD-B4f-b"
    },
    {
      "cell_type": "code",
      "execution_count": 35,
      "metadata": {
        "colab": {
          "base_uri": "https://localhost:8080/"
        },
        "id": "dfBTkWAX-QY1",
        "outputId": "5864b706-990a-4233-e160-40f11718a8d9"
      },
      "outputs": [
        {
          "output_type": "stream",
          "name": "stdout",
          "text": [
            "XGBoost Accuracy: 0.9897\n",
            "Confusion Matrix:\n",
            "[[2026   36]\n",
            " [   7 2091]]\n"
          ]
        }
      ],
      "source": [
        "import matplotlib.pyplot as plt\n",
        "import xgboost as xgb\n",
        "from sklearn.metrics import accuracy_score, confusion_matrix\n",
        "\n",
        "\n",
        "# Create and train the XGBoost classifier\n",
        "xg = xgb.XGBClassifier()\n",
        "xg.fit(X_train, y_train)\n",
        "\n",
        "# Predict on the test set\n",
        "y_predxg = xg.predict(X_test)\n",
        "\n",
        "# Calculate accuracy\n",
        "accuracy = accuracy_score(y_test, y_predxg)\n",
        "print(f\"XGBoost Accuracy: {accuracy:.4f}\")\n",
        "\n",
        "# Confusion matrix\n",
        "conf_matrix = confusion_matrix(y_test, y_predxg)\n",
        "print(\"Confusion Matrix:\")\n",
        "print(conf_matrix)\n"
      ],
      "id": "dfBTkWAX-QY1"
    },
    {
      "cell_type": "code",
      "execution_count": 38,
      "metadata": {
        "id": "-DUBISOACLED",
        "colab": {
          "base_uri": "https://localhost:8080/"
        },
        "outputId": "ab617be7-c3a3-479e-862c-01138022708b"
      },
      "outputs": [
        {
          "output_type": "stream",
          "name": "stdout",
          "text": [
            "Accuracy obtained by Gradient Boosting Classifier model: 96.80288461538461\n"
          ]
        }
      ],
      "source": [
        "from sklearn.ensemble import GradientBoostingClassifier\n",
        "gb = GradientBoostingClassifier()\n",
        "gb.fit(X_train, y_train)\n",
        "GradientBoostingClassifierScore = gb.score(X_test,y_test)\n",
        "print(\"Accuracy obtained by Gradient Boosting Classifier model:\",GradientBoostingClassifierScore*100)"
      ],
      "id": "-DUBISOACLED"
    },
    {
      "cell_type": "code",
      "source": [
        "!pip install catboost\n"
      ],
      "metadata": {
        "id": "041Ml1EAdqE4"
      },
      "id": "041Ml1EAdqE4",
      "execution_count": null,
      "outputs": []
    },
    {
      "cell_type": "code",
      "source": [
        "from catboost import CatBoostClassifier\n",
        "cat = CatBoostClassifier(iterations=10)\n",
        "cat.fit(X_train, y_train);\n",
        "CatBoostClassifierScore = cat.score(X_test,y_test)\n",
        "print(\"Accuracy obtained by CatBoost Classifier model:\",CatBoostClassifierScore*100)"
      ],
      "metadata": {
        "id": "SNXRIbmvdtdh",
        "outputId": "f3ac11d3-aac7-4492-f5ae-390d82dd6753",
        "colab": {
          "base_uri": "https://localhost:8080/"
        }
      },
      "id": "SNXRIbmvdtdh",
      "execution_count": 40,
      "outputs": [
        {
          "output_type": "stream",
          "name": "stdout",
          "text": [
            "Learning rate set to 0.5\n",
            "0:\tlearn: 0.3029109\ttotal: 1.15s\tremaining: 10.3s\n",
            "1:\tlearn: 0.2215106\ttotal: 2.33s\tremaining: 9.31s\n",
            "2:\tlearn: 0.1882700\ttotal: 3.46s\tremaining: 8.08s\n",
            "3:\tlearn: 0.1661686\ttotal: 4.5s\tremaining: 6.75s\n",
            "4:\tlearn: 0.1508593\ttotal: 5.99s\tremaining: 5.99s\n",
            "5:\tlearn: 0.1377195\ttotal: 7.68s\tremaining: 5.12s\n",
            "6:\tlearn: 0.1215191\ttotal: 9.44s\tremaining: 4.04s\n",
            "7:\tlearn: 0.1118123\ttotal: 11s\tremaining: 2.75s\n",
            "8:\tlearn: 0.1064324\ttotal: 12s\tremaining: 1.33s\n",
            "9:\tlearn: 0.0989880\ttotal: 13.2s\tremaining: 0us\n",
            "Accuracy obtained by CatBoost Classifier model: 97.83653846153845\n"
          ]
        }
      ]
    }
  ],
  "metadata": {
    "colab": {
      "provenance": []
    },
    "kernelspec": {
      "display_name": "Python 3 (ipykernel)",
      "language": "python",
      "name": "python3"
    },
    "language_info": {
      "codemirror_mode": {
        "name": "ipython",
        "version": 3
      },
      "file_extension": ".py",
      "mimetype": "text/x-python",
      "name": "python",
      "nbconvert_exporter": "python",
      "pygments_lexer": "ipython3",
      "version": "3.9.12"
    }
  },
  "nbformat": 4,
  "nbformat_minor": 5
}